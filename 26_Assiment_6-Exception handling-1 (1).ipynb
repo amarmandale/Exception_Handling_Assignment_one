{
 "cells": [
  {
   "cell_type": "markdown",
   "id": "0388edd6-dde5-4d63-aea2-e5412292acaa",
   "metadata": {},
   "source": [
    "#### Q1. What is an Exception in pthon? Write the difference between Exceptions and syntax errors"
   ]
  },
  {
   "cell_type": "raw",
   "id": "c299453f-f976-4485-a775-43ee74d5221e",
   "metadata": {},
   "source": [
    "answer:-  An exception is an event that occurs during the execution of a program that disrupts the normal flow of instructions. When an exceptional situation arises, Python raises an exception which can be caught and handled by the program to prevent the program from crashing or behaving unexpectedly. Exceptions provide a way to gracefully handle errors and unexpected situations in your code.\n",
    "\n",
    ">The difference between Exceptions and syntax errors\n",
    "Exceptions:\n",
    "1)Exceptions occur during the runtime execution of a program.\n",
    "2)They are raised when an error or unexpected situation occurs, such as dividing by zero, accessing a non-existent file, or attempting to use a variable that hasn't been defined.\n",
    "3)Exceptions can be caught and handled using try and except blocks, allowing the program to continue running with appropriate error handling.\n",
    "\n",
    "Syntax Errors:\n",
    "1)Syntax errors, also known as parsing errors, occur during the parsing of the code before it is executed.\n",
    "T2)hey are caused by incorrect syntax in the code, such as missing a closing parenthesis, using an invalid operator, or not following the correct indentation rules.\n",
    "3)Syntax errors prevent the program from running at all. The code needs to be fixed before it can be executed.\n"
   ]
  },
  {
   "cell_type": "markdown",
   "id": "671ec169-fb6a-46ba-b53e-54f2d4433d62",
   "metadata": {},
   "source": [
    "#### Q2. What happens when an exception is not handled? Explain with an example in python"
   ]
  },
  {
   "cell_type": "raw",
   "id": "f989ff51-7528-447f-a5b4-9c3aa505f032",
   "metadata": {},
   "source": [
    "answer:- When an exception is not handled, it leads to a situation called an \"unhandled exception.\" An unhandled exception occurs when the program encounters an error during execution, but there are no try and except blocks to catch and handle the exception. In such cases, the program terminates abruptly, and an error message is displayed, providing information about the exception that occurred.\n",
    "\n",
    "Here is an example to illustrate what happens when an exception is not handled:"
   ]
  },
  {
   "cell_type": "code",
   "execution_count": 3,
   "id": "6d2f9815-43ec-4c2e-8ead-d1ae752a4e44",
   "metadata": {},
   "outputs": [
    {
     "name": "stdout",
     "output_type": "stream",
     "text": [
      "division by zero\n"
     ]
    },
    {
     "data": {
      "text/plain": [
       "'In this example, if the user enters 0 as the input, a ZeroDivisionError exception will be raised because you cannot divide by zero. Since there are no try and except blocks to catch this exception, the program will terminate with an error message like this:'"
      ]
     },
     "execution_count": 3,
     "metadata": {},
     "output_type": "execute_result"
    }
   ],
   "source": [
    "try:\n",
    "    a=10/0\n",
    "except ZeroDivisionError as e:\n",
    "    print(e)\n",
    "    \n",
    "'''In this example, if the user enters 0 as the input, a ZeroDivisionError exception will be raised because you cannot divide by zero. Since there are no try and except blocks to catch this exception, the program will terminate with an error message like this:'''"
   ]
  },
  {
   "cell_type": "markdown",
   "id": "121af285-a5a0-4432-8c3f-fc0daf1fa4c7",
   "metadata": {},
   "source": [
    "#### Q.3 Which Python statements are used to ,catch and  handle exceptions? Explain with an example"
   ]
  },
  {
   "cell_type": "raw",
   "id": "b2132258-5252-4162-bf41-618273be11f6",
   "metadata": {},
   "source": [
    "answer:- You can catch and handle exceptions using the try and except statements. The try block contains the code that might raise an exception, and the except block contains the code to handle that exception if it occurs. Here's how it works with an example:\n"
   ]
  },
  {
   "cell_type": "code",
   "execution_count": 9,
   "id": "4cb806f9-07e9-4ba1-9937-cb02444fb0be",
   "metadata": {},
   "outputs": [
    {
     "name": "stdin",
     "output_type": "stream",
     "text": [
      "Enter a number:  23\n"
     ]
    },
    {
     "name": "stdout",
     "output_type": "stream",
     "text": [
      "Result: 0.43478260869565216\n"
     ]
    }
   ],
   "source": [
    "try:\n",
    "    n = int(input(\"Enter a number: \"))\n",
    "    result = 10 / n\n",
    "    print(\"Result:\", result)\n",
    "except ZeroDivisionError:\n",
    "    print(\"Cannot divide by zero.\")\n",
    "except ValueError:\n",
    "    print(\"Invalid input. Please enter a valid number.\")\n"
   ]
  },
  {
   "cell_type": "markdown",
   "id": "ef4b313f-ae27-4933-bb43-a026357058ea",
   "metadata": {},
   "source": [
    "#### Q4.explain with an example :\n",
    "\n",
    "a. try and else\n",
    "\n",
    "b. finally\n",
    "\n",
    "c. raise\n"
   ]
  },
  {
   "cell_type": "raw",
   "id": "0197952d-ce67-489b-8450-61bfb352f547",
   "metadata": {},
   "source": [
    "answer (a) try and else:-  In addition to the try and except blocks, Python also provides an optional else block that can be used along with them. The else block is executed when no exception occurs in the try block. This can be useful for separating the error handling code from the code that should run when everything goes smoothly. Here is an example:"
   ]
  },
  {
   "cell_type": "code",
   "execution_count": 10,
   "id": "5472ee71-6016-4b62-95e0-ffdac88ed095",
   "metadata": {},
   "outputs": [
    {
     "name": "stdout",
     "output_type": "stream",
     "text": [
      "this will be executed once your try will execute without error\n"
     ]
    }
   ],
   "source": [
    "try:\n",
    "    f = open(\"test.text\" , 'w')\n",
    "    f.write('write my file')\n",
    "except Exception as e:\n",
    "    print(\"this is my except block \", e)\n",
    "else:\n",
    "    f.close()\n",
    "    print(\"this will be executed once your try will execute without error\")"
   ]
  },
  {
   "cell_type": "raw",
   "id": "fbd4b109-0555-4789-b355-68f10ff9ad99",
   "metadata": {},
   "source": [
    "answer (b) finally :- In addition to the try, except, and else blocks, Python also provides a finally block that you can use. The finally block contains code that will be executed no matter what, whether an exception is raised or not. It's often used for cleanup operations that need to happen regardless of whether an exception occurred or not."
   ]
  },
  {
   "cell_type": "code",
   "execution_count": 13,
   "id": "9e467c9f-b69a-4ca2-957f-f5187e42ad46",
   "metadata": {},
   "outputs": [
    {
     "name": "stdout",
     "output_type": "stream",
     "text": [
      " finally will executed itself in any situation\n"
     ]
    }
   ],
   "source": [
    "try:\n",
    "    f = open(\"test3.txt\", 'r')\n",
    "    f.write(\"write something\")\n",
    "finally:\n",
    "    print(\" finally will executed itself in any situation\")"
   ]
  },
  {
   "cell_type": "raw",
   "id": "2994aaea-643d-47b5-87ed-b222f11f2f67",
   "metadata": {},
   "source": [
    "answer(c) raise:-  The raise statement is used to intentionally raise an exception during program execution. You can use the raise statement to generate your own exceptions in order to handle specific situations or errors in your code. This allows you to create custom exceptions that provide more context or information about what went wrong."
   ]
  },
  {
   "cell_type": "code",
   "execution_count": 16,
   "id": "1d80795c-ca37-4839-bc9a-7b564d369de5",
   "metadata": {},
   "outputs": [],
   "source": [
    "class valid_age(Exception):\n",
    "    pass\n",
    "   "
   ]
  },
  {
   "cell_type": "code",
   "execution_count": 17,
   "id": "23f9e611-9c9d-47b7-ae51-234ecb8f44b7",
   "metadata": {},
   "outputs": [],
   "source": [
    "def validage(age):\n",
    "    if age < 0:\n",
    "        raise valid_age (\"age is negative\")\n",
    "    elif age > 200:\n",
    "        raise valid_age( \"age is very very high\")\n",
    "    else:\n",
    "        print('age is valid')"
   ]
  },
  {
   "cell_type": "code",
   "execution_count": 18,
   "id": "eb75fc18-2453-4bb5-97bc-75afd4098491",
   "metadata": {},
   "outputs": [
    {
     "name": "stdin",
     "output_type": "stream",
     "text": [
      "enter your age 098765\n"
     ]
    },
    {
     "name": "stdout",
     "output_type": "stream",
     "text": [
      "age is very very high\n"
     ]
    }
   ],
   "source": [
    "try:\n",
    "    age=int(input('enter your age'))\n",
    "    validage(age)\n",
    "except valid_age as e:\n",
    "    print(e)"
   ]
  },
  {
   "cell_type": "markdown",
   "id": "315d37d3-0fdf-4d5b-af6e-858c33d17874",
   "metadata": {},
   "source": [
    "#### Q5. What are Custom Exceptions in python? Why do we need Custom Exceptions? Explain with an example\n"
   ]
  },
  {
   "cell_type": "raw",
   "id": "6b57a5c2-8b8e-4120-955f-dc93c7cd94c0",
   "metadata": {},
   "source": [
    "answer:-Custom exceptions in Python are user-defined exceptions that you create to represent specific error conditions in your code. While Python provides built-in exceptions like ValueError, TypeError, and so on, you might encounter situations in your program where these built-in exceptions don't accurately capture the nature of the error. This is where custom exceptions come into play. They allow you to define your own exception classes with names and messages that reflect the specific error situation in your code."
   ]
  },
  {
   "cell_type": "code",
   "execution_count": 25,
   "id": "e4f89223-8b27-47ec-bdba-b381bcd36703",
   "metadata": {},
   "outputs": [
    {
     "name": "stdin",
     "output_type": "stream",
     "text": [
      "enter your age -4\n"
     ]
    },
    {
     "name": "stdout",
     "output_type": "stream",
     "text": [
      "age is negative\n"
     ]
    }
   ],
   "source": [
    "class human_age(Exception):\n",
    "    pass\n",
    "def validage(age):\n",
    "    if age < 0:\n",
    "        raise human_age (\"age is negative\")\n",
    "    elif age > 200:\n",
    "        raise human_age( \"age is very very high\")\n",
    "    else:\n",
    "        print('age is valid')\n",
    "try:\n",
    "    age=int(input('enter your age'))\n",
    "    validage(age)\n",
    "except human_age as e:\n",
    "    print(e)"
   ]
  },
  {
   "cell_type": "markdown",
   "id": "ad0e2881-0897-4d0e-bfd9-727f5e13f0a4",
   "metadata": {},
   "source": [
    "#### Q6.  Create a custom exception class. Use this class to handle an exception.\n",
    "\n"
   ]
  },
  {
   "cell_type": "code",
   "execution_count": 33,
   "id": "769cbe90-0835-4e8d-b2d0-255be6bbb376",
   "metadata": {},
   "outputs": [
    {
     "name": "stdin",
     "output_type": "stream",
     "text": [
      "Enter a positive number:  90\n"
     ]
    },
    {
     "name": "stdout",
     "output_type": "stream",
     "text": [
      "Result: 180\n"
     ]
    }
   ],
   "source": [
    "class MyCustomException(Exception):\n",
    "    def __init__(self, value):\n",
    "        self.value = value\n",
    "\n",
    "    def __str__(self):\n",
    "        return self.value\n",
    "\n",
    "def process_input(number):\n",
    "    if number < 0:\n",
    "        raise MyCustomException(number)\n",
    "    return number * 2\n",
    "\n",
    "try:\n",
    "    user_input = int(input(\"Enter a positive number: \"))\n",
    "    result = process_input(user_input)\n",
    "    print(\"Result:\", result)\n",
    "except MyCustomException as error:\n",
    "    print(\"Error:\", error)\n"
   ]
  },
  {
   "cell_type": "code",
   "execution_count": null,
   "id": "0c627dbe-9682-451b-8ff7-4342e155f2d6",
   "metadata": {},
   "outputs": [],
   "source": []
  }
 ],
 "metadata": {
  "kernelspec": {
   "display_name": "Python 3 (ipykernel)",
   "language": "python",
   "name": "python3"
  },
  "language_info": {
   "codemirror_mode": {
    "name": "ipython",
    "version": 3
   },
   "file_extension": ".py",
   "mimetype": "text/x-python",
   "name": "python",
   "nbconvert_exporter": "python",
   "pygments_lexer": "ipython3",
   "version": "3.10.8"
  }
 },
 "nbformat": 4,
 "nbformat_minor": 5
}
